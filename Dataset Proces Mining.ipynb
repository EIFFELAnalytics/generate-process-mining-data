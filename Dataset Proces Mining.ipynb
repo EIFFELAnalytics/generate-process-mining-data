{
 "cells": [
  {
   "cell_type": "markdown",
   "metadata": {
    "slideshow": {
     "slide_type": "slide"
    }
   },
   "source": [
    "# Proces Mining - fake dataset produceren"
   ]
  },
  {
   "cell_type": "code",
   "execution_count": 22,
   "metadata": {
    "slideshow": {
     "slide_type": "slide"
    }
   },
   "outputs": [],
   "source": [
    "# Importeer packages\n",
    "import pandas as pd\n",
    "import numpy as np\n",
    "import uuid\n",
    "from random import normalvariate\n",
    "import random\n",
    "import datetime \n",
    "import weakref\n",
    "from faker import Faker"
   ]
  },
  {
   "cell_type": "markdown",
   "metadata": {},
   "source": [
    "## Classes en functies"
   ]
  },
  {
   "cell_type": "code",
   "execution_count": null,
   "metadata": {},
   "outputs": [],
   "source": [
    "# Maakt een random datetime aan de hand van een startdatetime en een interval\n",
    "def random_date(start,interval):\n",
    "    if interval == 0:\n",
    "        return start\n",
    "    else:\n",
    "        delta = (np.random.poisson(1,1)+1)+normalvariate(interval, interval*0.1)\n",
    "        current = start + datetime.timedelta(minutes = delta[0])\n",
    "        return current"
   ]
  },
  {
   "cell_type": "code",
   "execution_count": 23,
   "metadata": {},
   "outputs": [],
   "source": [
    "# Elke stap is een class, met:\n",
    "# - Een naam\n",
    "# - Mogelijke volgende stappen (in lijst)\n",
    "# - Kansen op die volgende stappen (in lijst)\n",
    "# - Tijd binnen huidige stap (om verschil tussen start en eind te bepalen)\n",
    "# - Tijd tussen huidige stap en volgende stap (verschil tussen eind huidige stap en begin volgende, in lijst)\n",
    "# - Tijd waarbinnen de start en eindtijden moeten vallen, voor nu altijd tussen 8.00-18.00\n",
    "\n",
    "class step():\n",
    "    instances = []\n",
    "    def __init__(self,name, next_step, chance_next_step, time_step,time_to_next_step, possible_interval =[8,18]):\n",
    "        self.__class__.instances.append(weakref.proxy(self))\n",
    "        self.name = name\n",
    "        self.next_step = next_step\n",
    "        self.chance_next_step = chance_next_step\n",
    "        self.time_step = time_step\n",
    "        self.time_to_next_step = time_to_next_step\n",
    "        self.possible_interval = possible_interval"
   ]
  },
  {
   "cell_type": "code",
   "execution_count": 25,
   "metadata": {},
   "outputs": [],
   "source": [
    "# Elk datapunt (een case van begin tot eind in het proces) is een class. \n",
    "class datapoint():\n",
    "    # Starteigenschappen\n",
    "    def __init__(self): # Begin met eerste stap van datapunt\n",
    "        self.userID = uuid.uuid4()\n",
    "        self.currentstep = Inschrijving\n",
    "        \n",
    "        # Startdatum random tussen 1-7-2018 en 1-10-2018, als niet in timewindow of in weekend, voeg telkens een uur toe\n",
    "        fake = Faker()\n",
    "        self.start = fake.date_time_between_dates(datetime_start=datetime.datetime(2018,7,1), datetime_end=datetime.datetime(2018,10,1))\n",
    "        while self.start.hour < self.currentstep.possible_interval[0] or self.start.hour >= self.currentstep.possible_interval[1] or self.start.weekday()>=5:\n",
    "            self.start = random_date(self.start,60) \n",
    "            \n",
    "        # Einddatum. Als niet in timewindow of in weekend, voeg telkens een uur toe.\n",
    "        self.end = random_date(self.start, self.currentstep.time_step)\n",
    "        while self.end.hour < self.currentstep.possible_interval[0] or self.end.hour >= self.currentstep.possible_interval[1] or self.end.weekday()>=5:\n",
    "            self.end = random_date(self.end,60) \n",
    "            \n",
    "    # Functie die de case van begin tot eind in proces maakt    \n",
    "    def create_datapoint(self,df):\n",
    "        # Append eerste rij\n",
    "        df = df.append({'ID':self.userID, 'Step':self.currentstep.name, 'Start':self.start, 'End':self.end}, ignore_index = True)     \n",
    "        \n",
    "        # Herhaal totdat de stap 'DONE' is bereikt\n",
    "        while self.currentstep.name != 'DONE':\n",
    "            rand = random.random()\n",
    "            sumchance = 0\n",
    "            \n",
    "            # Vergelijk kansen met random nummer om volgende stap te bepalen\n",
    "            for i in range(len(self.currentstep.chance_next_step)):\n",
    "                sumchance += self.currentstep.chance_next_step[i]\n",
    "                if rand < sumchance:\n",
    "                    \n",
    "                    # Loop through isntances to find correct one\n",
    "                    for instance in step.instances:\n",
    "                        if instance.name == self.currentstep.next_step[i]:\n",
    "                            \n",
    "                            # Update alle variabelen van nieuwe stap\n",
    "                            self.start = random_date(self.end, self.currentstep.time_to_next_step[i])\n",
    "                            while self.start.hour < self.currentstep.possible_interval[0] or self.start.hour >= self.currentstep.possible_interval[1] or self.start.weekday()>=5:\n",
    "                                self.start = random_date(self.start,60)\n",
    "                            self.currentstep = instance \n",
    "                            self.end = random_date(self.start, self.currentstep.time_step)\n",
    "                            while self.end.hour < self.currentstep.possible_interval[0] or self.end.hour >= self.currentstep.possible_interval[1] or self.end.weekday()>=5:\n",
    "                                self.end = random_date(self.end,60)\n",
    "                                \n",
    "                            # Als niet DONE, dan voeg toe aan df\n",
    "                            if self.currentstep.name != 'DONE':\n",
    "                                df = df.append({'ID':self.userID, 'Step':self.currentstep.name, 'Start':self.start, 'End':self.end}, ignore_index = True)\n",
    "                            \n",
    "                            break\n",
    "                    break\n",
    "\n",
    "        return df"
   ]
  },
  {
   "cell_type": "code",
   "execution_count": 26,
   "metadata": {},
   "outputs": [],
   "source": [
    "# Functie die de hele dataset, tot aan AantalN maakt\n",
    "def create_dataset(AantalN):\n",
    "    df = pd.DataFrame(data={'ID':[], 'Step':[], 'Start':[], 'End':[]})\n",
    "    while len(df) < AantalN:\n",
    "        df = datapoint().create_datapoint(df)\n",
    "    return df "
   ]
  },
  {
   "cell_type": "markdown",
   "metadata": {},
   "source": [
    "## Steps en dataset"
   ]
  },
  {
   "cell_type": "code",
   "execution_count": 24,
   "metadata": {},
   "outputs": [],
   "source": [
    "# Het aanmaken van de verschillende stappen\n",
    "# Instantiate new step : name, next steps, chances next steps, time during step, time to next step, possible times (optional)\n",
    "week_min = 7*24*60\n",
    "Inschrijving = step('Inschrijving', ['Registratie door arts','Wachten op patiënt info'],[0.9,0.1], 5, [120,0])\n",
    "Registratie = step('Registratie door arts', ['Inschrijving', 'Controle door ZA'],[0.1,0.9], 10, [0,240])\n",
    "Wachten = step('Wachten op patiënt info',['Inschrijving'], [1], 2*week_min,[0])\n",
    "Controle = step('Controle door ZA',['Inschrijving','Registratie door arts','Controle door ZA','DONE','Facturatie'],[0.1,0.1,0.25,0.05,0.5],week_min, [0,0,0,0,240])\n",
    "Facturatie = step('Facturatie',['Facturatie','Afronding','DONE','Controle door ZA'],[0.1,0.65, 0.05, 0.2], week_min,[0,week_min,0,0])\n",
    "Afronding = step('Afronding',['Facturatie','DONE'],[0.4,0.6], 0,[0,0])\n",
    "DONE = step('DONE',[],[],0,[0])"
   ]
  },
  {
   "cell_type": "code",
   "execution_count": 27,
   "metadata": {
    "scrolled": true
   },
   "outputs": [],
   "source": [
    "# Het aanmaken van de dataset met lengte AantalN\n",
    "dataset = create_dataset(10000)"
   ]
  },
  {
   "cell_type": "code",
   "execution_count": 28,
   "metadata": {},
   "outputs": [],
   "source": [
    "# Sla op als csv\n",
    "dataset.to_csv(\"Proces_Mining_dataset_v2.csv\")"
   ]
  },
  {
   "cell_type": "code",
   "execution_count": null,
   "metadata": {},
   "outputs": [],
   "source": []
  }
 ],
 "metadata": {
  "kernelspec": {
   "display_name": "Python 3",
   "language": "python",
   "name": "python3"
  },
  "language_info": {
   "codemirror_mode": {
    "name": "ipython",
    "version": 3
   },
   "file_extension": ".py",
   "mimetype": "text/x-python",
   "name": "python",
   "nbconvert_exporter": "python",
   "pygments_lexer": "ipython3",
   "version": "3.6.7"
  }
 },
 "nbformat": 4,
 "nbformat_minor": 2
}
